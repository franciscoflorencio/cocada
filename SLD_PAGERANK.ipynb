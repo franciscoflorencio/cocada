{
 "cells": [
  {
   "cell_type": "code",
   "execution_count": 265,
   "metadata": {},
   "outputs": [],
   "source": [
    "using LinearAlgebra"
   ]
  },
  {
   "cell_type": "code",
   "execution_count": 266,
   "metadata": {},
   "outputs": [
    {
     "data": {
      "text/plain": [
       "5×4 Matrix{Float64}:\n",
       " -1.0        0.0   1.0   0.5\n",
       "  0.333333  -1.0   0.0   0.0\n",
       "  0.333333   0.5  -1.0   0.5\n",
       "  0.333333   0.5   0.0  -1.0\n",
       "  1.0        1.0   1.0   1.0"
      ]
     },
     "metadata": {},
     "output_type": "display_data"
    }
   ],
   "source": [
    "A = [\n",
    "    -1 0 1 1/2\n",
    "    1/3 -1 0 0\n",
    "    1/3 1/2 -1 1/2\n",
    "    1/3 1/2 0 -1\n",
    "    1 1 1 1\n",
    "]"
   ]
  },
  {
   "cell_type": "code",
   "execution_count": 267,
   "metadata": {},
   "outputs": [
    {
     "data": {
      "text/plain": [
       "5-element Vector{Float64}:\n",
       " 0.0\n",
       " 0.0\n",
       " 0.0\n",
       " 0.0\n",
       " 1.0"
      ]
     },
     "metadata": {},
     "output_type": "display_data"
    }
   ],
   "source": [
    "b = [zeros(4);1]"
   ]
  },
  {
   "cell_type": "code",
   "execution_count": 268,
   "metadata": {},
   "outputs": [
    {
     "data": {
      "text/plain": [
       "4-element Vector{Float64}:\n",
       " 0.3870967741935485\n",
       " 0.12903225806451604\n",
       " 0.29032258064516125\n",
       " 0.19354838709677422"
      ]
     },
     "metadata": {},
     "output_type": "display_data"
    }
   ],
   "source": [
    "importancia = A \\ b"
   ]
  },
  {
   "cell_type": "code",
   "execution_count": 269,
   "metadata": {},
   "outputs": [
    {
     "data": {
      "text/plain": [
       "1.716587549445839e-16"
      ]
     },
     "metadata": {},
     "output_type": "display_data"
    }
   ],
   "source": [
    "norm(A*importancia-b)"
   ]
  },
  {
   "cell_type": "code",
   "execution_count": 270,
   "metadata": {},
   "outputs": [
    {
     "data": {
      "text/plain": [
       "4×4 Matrix{Float64}:\n",
       " 0.0       0.0  1.0  0.5\n",
       " 0.333333  0.0  0.0  0.0\n",
       " 0.333333  0.5  0.0  0.5\n",
       " 0.333333  0.5  0.0  0.0"
      ]
     },
     "metadata": {},
     "output_type": "display_data"
    }
   ],
   "source": [
    "🐱 = [\n",
    "    0 0 1 1/2\n",
    "    1/3 0 0 0\n",
    "    1/3 1/2 0 1/2\n",
    "    1/3 1/2 0 0\n",
    "]"
   ]
  },
  {
   "cell_type": "code",
   "execution_count": 271,
   "metadata": {},
   "outputs": [
    {
     "data": {
      "text/plain": [
       "simulacao (generic function with 1 method)"
      ]
     },
     "metadata": {},
     "output_type": "display_data"
    }
   ],
   "source": [
    "function simulacao(vetor, min)\n",
    "    for i=1:min\n",
    "        vetor = 🐱*vetor\n",
    "    end\n",
    "    return vetor\n",
    "    \n",
    "end"
   ]
  },
  {
   "cell_type": "code",
   "execution_count": 272,
   "metadata": {},
   "outputs": [
    {
     "data": {
      "text/plain": [
       "4-element Vector{Float64}:\n",
       " 25.0\n",
       " 25.0\n",
       " 25.0\n",
       " 25.0"
      ]
     },
     "metadata": {},
     "output_type": "display_data"
    }
   ],
   "source": [
    "vetor = 25*ones(4)"
   ]
  },
  {
   "cell_type": "code",
   "execution_count": 273,
   "metadata": {},
   "outputs": [
    {
     "data": {
      "text/plain": [
       "4-element Vector{Float64}:\n",
       " 38.70967741935479\n",
       " 12.903225806451596\n",
       " 29.032258064516093\n",
       " 19.354838709677395"
      ]
     },
     "metadata": {},
     "output_type": "display_data"
    }
   ],
   "source": [
    "final = simulacao(vetor, 6000)"
   ]
  },
  {
   "cell_type": "code",
   "execution_count": 274,
   "metadata": {},
   "outputs": [
    {
     "data": {
      "text/plain": [
       "99.99999999999987"
      ]
     },
     "metadata": {},
     "output_type": "display_data"
    }
   ],
   "source": [
    "sum(final)"
   ]
  },
  {
   "cell_type": "code",
   "execution_count": 275,
   "metadata": {},
   "outputs": [
    {
     "data": {
      "text/plain": [
       "Eigen{ComplexF64, ComplexF64, Matrix{ComplexF64}, Vector{ComplexF64}}\n",
       "values:\n",
       "4-element Vector{ComplexF64}:\n",
       " -0.36062333350611053 - 0.4109755454950538im\n",
       " -0.36062333350611053 + 0.4109755454950538im\n",
       "   -0.278753332987779 + 0.0im\n",
       "    1.000000000000002 + 0.0im\n",
       "vectors:\n",
       "4×4 Matrix{ComplexF64}:\n",
       " -0.755216-0.0im        …   0.506486+0.0im   0.72101+0.0im\n",
       "  0.303672-0.346072im      -0.605656+0.0im  0.240337+0.0im\n",
       " 0.0931532+0.274678im      -0.381539+0.0im  0.540758+0.0im\n",
       "   0.35839+0.0713946im      0.480709+0.0im  0.360505+0.0im"
      ]
     },
     "metadata": {},
     "output_type": "display_data"
    }
   ],
   "source": [
    "eigen(🐱)"
   ]
  },
  {
   "cell_type": "code",
   "execution_count": 276,
   "metadata": {},
   "outputs": [
    {
     "data": {
      "text/plain": [
       "2-element Vector{Int64}:\n",
       "  100\n",
       " 2030"
      ]
     },
     "metadata": {},
     "output_type": "display_data"
    }
   ],
   "source": [
    "🐱 = randn(2,2)\n",
    "v=[100,2030]"
   ]
  },
  {
   "cell_type": "code",
   "execution_count": 277,
   "metadata": {},
   "outputs": [
    {
     "data": {
      "text/plain": [
       "2-element Vector{Float64}:\n",
       " -9.69202991022629e71\n",
       " -9.272672214625707e71"
      ]
     },
     "metadata": {},
     "output_type": "display_data"
    }
   ],
   "source": [
    "simulacao(v, 1000)"
   ]
  },
  {
   "cell_type": "code",
   "execution_count": 278,
   "metadata": {},
   "outputs": [],
   "source": []
  }
 ],
 "metadata": {
  "kernelspec": {
   "display_name": "Julia 1.10.4",
   "language": "julia",
   "name": "julia-1.10"
  },
  "language_info": {
   "file_extension": ".jl",
   "mimetype": "application/julia",
   "name": "julia",
   "version": "1.10.4"
  }
 },
 "nbformat": 4,
 "nbformat_minor": 2
}
