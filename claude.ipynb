{
 "cells": [
  {
   "cell_type": "code",
   "execution_count": null,
   "metadata": {},
   "outputs": [],
   "source": [
    "using LinearAlgebra\n",
    "\n",
    "function householder(A)\n",
    "    m, n = size(A)\n",
    "    for k = 1:n\n",
    "        x = A[k:m, k]\n",
    "        e = [1; zeros(length(x) - 1)]\n",
    "        u = sign(x[1]) * norm(x) * e + x\n",
    "        v = u / norm(u)\n",
    "        A[k:m, k:end] -= 2 * v * (v' * A[k:m, k:end])\n",
    "    end\n",
    "    return A\n",
    "end\n",
    "\n",
    "A = [12.0 24.0; 4.0 14.0; -3.0 2.0]\n",
    "b = [-62.0, 104.0, -53.0]\n",
    "\n",
    "augmented = [A b]\n",
    "result = householder(augmented)\n",
    "augmented"
   ]
  },
  {
   "cell_type": "code",
   "execution_count": null,
   "metadata": {},
   "outputs": [],
   "source": [
    "using LinearAlgebra\n",
    "\n",
    "function householder_vector(x)\n",
    "    e1 = [1.0; zeros(length(x) - 1)]\n",
    "    v = sign(x[1]) * norm(x) * e1 + x\n",
    "    v /= norm(v)\n",
    "    return v\n",
    "end\n",
    "\n",
    "function householder_A!(A)\n",
    "    m, n = size(A)\n",
    "    Q = Matrix{Float64}(I, m, m)\n",
    "    for k = 1:min(m-1, n)\n",
    "        v = householder_vector(A[k:m, k])\n",
    "        A[k:m, k:n] -= 2 * v * (v' * A[k:m, k:n])\n",
    "        Q[:, k:m] -= 2 * Q[:, k:m] * v * v'\n",
    "    end\n",
    "    return A, Q\n",
    "end\n",
    "\n",
    "function householder_b!(b, Q)\n",
    "    return Q' * b\n",
    "end\n",
    "\n",
    "# Definindo A e b\n",
    "A = [12.0 24.0; 4.0 14.0; -3.0 2.0]\n",
    "b = [-62.0, 104.0, -53.0]\n",
    "\n",
    "# Aplicando a transformação de Householder em A\n",
    "A_result, Q = householder_A!(copy(A))\n",
    "\n",
    "# Aplicando a transformação em b\n",
    "b_result = householder_b!(copy(b), Q)\n",
    "\n",
    "println(\"A resultante:\")\n",
    "display(A_result)\n",
    "println(\"\\nb resultante:\")\n",
    "display(b_result)\n",
    "println(\"\\nMatriz Q:\")\n",
    "display(Q)"
   ]
  }
 ],
 "metadata": {
  "language_info": {
   "name": "python"
  }
 },
 "nbformat": 4,
 "nbformat_minor": 2
}
