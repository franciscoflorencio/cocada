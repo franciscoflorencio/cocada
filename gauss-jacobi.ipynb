{
 "cells": [
  {
   "cell_type": "code",
   "execution_count": 3,
   "metadata": {},
   "outputs": [
    {
     "data": {
      "text/plain": [
       "gauss_jacobi (generic function with 6 methods)"
      ]
     },
     "execution_count": 3,
     "metadata": {},
     "output_type": "execute_result"
    }
   ],
   "source": [
    "using LinearAlgebra\n",
    "\n",
    "# Método do Ponto Fixo\n",
    "function fixed_point(g, x0, tol=1e-6, max_iter=100)\n",
    "    x = x0\n",
    "    for i in 1:max_iter\n",
    "        x_new = g(x)\n",
    "        if abs(x_new - x) < tol\n",
    "            return x_new, i\n",
    "        end\n",
    "        x = x_new\n",
    "    end\n",
    "    error(\"Método não convergiu após $max_iter iterações\")\n",
    "end\n",
    "\n",
    "function gauss_jacobi_converge(A::Matrix{Float64})\n",
    "    n = size(A, 1)\n",
    "    \n",
    "    # Extrair D, L, U\n",
    "    D = Diagonal(A)\n",
    "    L = tril(A, -1)\n",
    "    U = triu(A, 1)\n",
    "    \n",
    "    # Calcular a matriz de iteração B\n",
    "    B = -inv(D) * (L + U)\n",
    "    \n",
    "    # Calcular autovalores\n",
    "    eigenvalues = eigvals(B)\n",
    "    \n",
    "    # Calcular o raio espectral\n",
    "    spectral_radius = maximum(abs.(eigenvalues))\n",
    "    \n",
    "    # Verificar convergência\n",
    "    converges = spectral_radius < 1\n",
    "    \n",
    "    return converges, spectral_radius\n",
    "end\n",
    "\n",
    "function gauss_jacobi(A::Matrix{Float64}, b::Vector{Float64}, x0::Vector{Float64}, tol=1e-6, max_iter=100)\n",
    "    n = length(b)\n",
    "    x = copy(x0)\n",
    "    x_new = similar(x)\n",
    "    \n",
    "    for k in 1:max_iter\n",
    "        for i in 1:n\n",
    "            s = sum(A[i,j] * x[j] for j in 1:n if j != i)\n",
    "            x_new[i] = (b[i] - s) / A[i,i]\n",
    "        end\n",
    "        \n",
    "        if norm(x_new - x, Inf) < tol\n",
    "            return x_new, k\n",
    "        end\n",
    "        \n",
    "        x .= x_new\n",
    "    end\n",
    "    \n",
    "    error(\"Método não convergiu após $max_iter iterações\")\n",
    "end"
   ]
  }
 ],
 "metadata": {
  "kernelspec": {
   "display_name": "Julia 1.10.4",
   "language": "julia",
   "name": "julia-1.10"
  },
  "language_info": {
   "file_extension": ".jl",
   "mimetype": "application/julia",
   "name": "julia",
   "version": "1.10.4"
  }
 },
 "nbformat": 4,
 "nbformat_minor": 2
}
