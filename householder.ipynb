{
 "cells": [
  {
   "cell_type": "code",
   "execution_count": 124,
   "metadata": {},
   "outputs": [
    {
     "data": {
      "text/plain": [
       "3-element Vector{Float64}:\n",
       " -62.0\n",
       " 104.0\n",
       " -53.0"
      ]
     },
     "execution_count": 124,
     "metadata": {},
     "output_type": "execute_result"
    }
   ],
   "source": [
    "A = [\n",
    "    12.0 24\n",
    "    4 14\n",
    "    -3 2\n",
    "]\n",
    "\n",
    "\n",
    "b = [-62.0, 104, -53]"
   ]
  },
  {
   "cell_type": "code",
   "execution_count": 125,
   "metadata": {},
   "outputs": [
    {
     "data": {
      "text/plain": [
       "3×3 Matrix{Float64}:\n",
       " 12.0  24.0  -62.0\n",
       "  4.0  14.0  104.0\n",
       " -3.0   2.0  -53.0"
      ]
     },
     "execution_count": 125,
     "metadata": {},
     "output_type": "execute_result"
    }
   ],
   "source": [
    "augmented = [A b]"
   ]
  },
  {
   "cell_type": "code",
   "execution_count": 126,
   "metadata": {},
   "outputs": [
    {
     "data": {
      "text/plain": [
       "householder (generic function with 2 methods)"
      ]
     },
     "execution_count": 126,
     "metadata": {},
     "output_type": "execute_result"
    }
   ],
   "source": [
    "using LinearAlgebra\n",
    "\n",
    "function normalizar(z)\n",
    "    return z/norm(z)\n",
    "end\n",
    "\n",
    "function householder(A, b)\n",
    "    m,n=size(A)\n",
    "    for k=1:n\n",
    "        a = A[k:m,k]\n",
    "        w = norm(a) * [1;zeros(m-k)]\n",
    "        v = a - w\n",
    "        v = normalizar(v)\n",
    "        \n",
    "        \n",
    "\n",
    "        A[k:m,k:n] -= 2 * v * (v'*A[k:m,k:n])\n",
    "        b[k:m] -= 2 * v * (v'*b[k:m])\n",
    "    end\n",
    "    return A, b\n",
    "end"
   ]
  },
  {
   "cell_type": "code",
   "execution_count": 127,
   "metadata": {},
   "outputs": [
    {
     "data": {
      "text/plain": [
       "([13.0 26.0; -8.881784197001252e-16 10.0; 4.440892098500626e-16 0.0], [-12.999999999999993, 20.0, -130.00000000000003])"
      ]
     },
     "execution_count": 127,
     "metadata": {},
     "output_type": "execute_result"
    }
   ],
   "source": [
    "novoA, novoB = householder(A, b)\n"
   ]
  },
  {
   "cell_type": "code",
   "execution_count": 128,
   "metadata": {},
   "outputs": [
    {
     "name": "stdout",
     "output_type": "stream",
     "text": [
      "Solução substituicao reversa: [-5.0, 2.0]\n",
      "Solução contra-barra: [-5.000000000000002, 2.0000000000000013]\n"
     ]
    }
   ],
   "source": [
    "function substituicao_reversa(A::Matrix{T}, b::Vector{T}) where T\n",
    "    m,n = size(A)\n",
    "    x = zeros(T, n)\n",
    "\n",
    "    for i in n:-1:1\n",
    "        soma = 0.0\n",
    "        for j in i+1:n\n",
    "            soma += A[i, j] * x[j]\n",
    "        end\n",
    "        x[i] = (b[i] - soma) / A[i, i]\n",
    "    end\n",
    "\n",
    "    return x\n",
    "end\n",
    "\n",
    "\n",
    "x = substituicao_reversa(novoA, novoB)\n",
    "println(\"Solução substituicao reversa: $x\")\n",
    "println(\"Solução contra-barra: \", novoA \\ novoB)\n"
   ]
  },
  {
   "cell_type": "code",
   "execution_count": 130,
   "metadata": {},
   "outputs": [
    {
     "name": "stdout",
     "output_type": "stream",
     "text": [
      "Solução substituicao reversa: [-0.14144787410085757, -0.22530605935095632, -2.081068787250346, 0.2096959606958006, 0.20978655367108714, 0.12121847590003618, 0.5002060846737112, 0.7612967599055993, 0.25755615097013224, -0.09465313458569562, 0.2055697150851885, 0.955470230947585, -0.21198420823129932, -0.18835356178565024, 1.2523662301109002, 0.7220528052388415, -1.563237032803948, 0.11216091291624043, 0.5445587158317857, 0.013059656009633625, 0.6233564076398915, -0.37681132049567767, 0.20770914072012597, 0.7825701417200858, 0.4020024835147363, -0.6947736508429306, -0.8714216062159189, 0.39803085145610406, -1.3033977963996959, 0.6156826042351562, 0.8612606438998375, -0.8087278530247839, 0.023079645524701164, -0.29352076383104686, -0.07383750656024088, -0.11795206219959066, 0.037139917979227756, 1.2189190677228041, -0.49392169782473494, -0.8880686835476908, 0.4760861403641146, -0.5371445047761205, 0.6896335864719286, 0.34824087361848055, 0.7057332064920041, -1.1626270051765033, 0.5440125378871332, 0.819684209392739, 0.8190263338344121, -0.9363101566735558]\n",
      "Solução contra-barra: [-0.141447874100867, -0.22530605935095427, -2.081068787250371, 0.20969596069580854, 0.20978655367108734, 0.12121847590002836, 0.5002060846737042, 0.7612967599056117, 0.25755615097014845, -0.09465313458570755, 0.20556971508519273, 0.9554702309475802, -0.21198420823129416, -0.18835356178566368, 1.2523662301109153, 0.722052805238862, -1.5632370328039626, 0.11216091291624063, 0.5445587158318024, 0.013059656009637634, 0.6233564076398741, -0.37681132049569765, 0.20770914072014282, 0.7825701417200869, 0.4020024835147371, -0.6947736508429356, -0.8714216062159207, 0.39803085145610534, -1.303397796399701, 0.6156826042351622, 0.861260643899845, -0.8087278530248015, 0.023079645524701656, -0.2935207638310409, -0.07383750656023703, -0.11795206219959029, 0.037139917979232856, 1.218919067722821, -0.4939216978247275, -0.8880686835476991, 0.47608614036413194, -0.5371445047761442, 0.68963358647194, 0.34824087361845485, 0.7057332064920198, -1.1626270051765057, 0.5440125378871323, 0.8196842093927319, 0.8190263338344295, -0.9363101566735831]\n"
     ]
    }
   ],
   "source": [
    "matrixzona = randn(50, 50)\n",
    "vetorzao = randn(50)\n",
    "\n",
    "testezao1, testezao2 = householder(matrixzona, vetorzao)\n",
    "\n",
    "println(\"Solução substituicao reversa: \", substituicao_reversa(testezao1, testezao2))\n",
    "println(\"Solução contra-barra: \", testezao1 \\ testezao2)"
   ]
  }
 ],
 "metadata": {
  "kernelspec": {
   "display_name": "Julia 1.10.4",
   "language": "julia",
   "name": "julia-1.10"
  },
  "language_info": {
   "file_extension": ".jl",
   "mimetype": "application/julia",
   "name": "julia",
   "version": "1.10.4"
  }
 },
 "nbformat": 4,
 "nbformat_minor": 2
}
