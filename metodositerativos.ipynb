{
 "cells": [
  {
   "cell_type": "code",
   "execution_count": 2,
   "metadata": {},
   "outputs": [
    {
     "data": {
      "text/plain": [
       "6-element Vector{Int64}:\n",
       "  50\n",
       "   0\n",
       "   0\n",
       "   0\n",
       "   0\n",
       " 100"
      ]
     },
     "metadata": {},
     "output_type": "display_data"
    }
   ],
   "source": [
    "A = [\n",
    "    2 -1 0 0 0 0\n",
    "    -1 2 -1 0 0 0\n",
    "    0 -1 2 -1 0 0\n",
    "    0 0 -1 2 -1 0\n",
    "    0 0 0 -1 2 -1\n",
    "    0 0 0 0 -1 2\n",
    "]\n",
    "\n",
    "b = [\n",
    "    50 \n",
    "    0\n",
    "    0\n",
    "    0\n",
    "    0\n",
    "    100\n",
    "]"
   ]
  },
  {
   "cell_type": "code",
   "execution_count": 4,
   "metadata": {},
   "outputs": [
    {
     "data": {
      "text/plain": [
       "6-element Vector{Float64}:\n",
       " 57.14285714285714\n",
       " 64.28571428571428\n",
       " 71.42857142857142\n",
       " 78.57142857142858\n",
       " 85.71428571428572\n",
       " 92.85714285714286"
      ]
     },
     "metadata": {},
     "output_type": "display_data"
    }
   ],
   "source": [
    "A \\ b #O(n³)"
   ]
  },
  {
   "cell_type": "code",
   "execution_count": 17,
   "metadata": {},
   "outputs": [
    {
     "data": {
      "text/plain": [
       "cria_matriz (generic function with 2 methods)"
      ]
     },
     "metadata": {},
     "output_type": "display_data"
    }
   ],
   "source": [
    "function cria_matriz(n::Int)\n",
    "    A = Matrix{Int}(undef, n, n)\n",
    "    \n",
    "    for i in 1:n\n",
    "        for j in 1:n\n",
    "            if i == j\n",
    "                A[i,j] = 2  # Diagonal principal\n",
    "            elseif abs(i - j) == 1\n",
    "                A[i,j] = -1  # Diagonais superior e inferior\n",
    "            else\n",
    "                A[i,j] = 0  # Demais elementos\n",
    "            end\n",
    "        end\n",
    "    end\n",
    "    \n",
    "    return A\n",
    "end"
   ]
  },
  {
   "cell_type": "code",
   "execution_count": 18,
   "metadata": {},
   "outputs": [
    {
     "data": {
      "text/plain": [
       "200×200 Matrix{Int64}:\n",
       "  2  -1   0   0   0   0   0   0   0  …   0   0   0   0   0   0   0   0   0\n",
       " -1   2  -1   0   0   0   0   0   0      0   0   0   0   0   0   0   0   0\n",
       "  0  -1   2  -1   0   0   0   0   0      0   0   0   0   0   0   0   0   0\n",
       "  0   0  -1   2  -1   0   0   0   0      0   0   0   0   0   0   0   0   0\n",
       "  0   0   0  -1   2  -1   0   0   0      0   0   0   0   0   0   0   0   0\n",
       "  0   0   0   0  -1   2  -1   0   0  …   0   0   0   0   0   0   0   0   0\n",
       "  0   0   0   0   0  -1   2  -1   0      0   0   0   0   0   0   0   0   0\n",
       "  0   0   0   0   0   0  -1   2  -1      0   0   0   0   0   0   0   0   0\n",
       "  0   0   0   0   0   0   0  -1   2      0   0   0   0   0   0   0   0   0\n",
       "  0   0   0   0   0   0   0   0  -1      0   0   0   0   0   0   0   0   0\n",
       "  ⋮                   ⋮              ⋱                   ⋮              \n",
       "  0   0   0   0   0   0   0   0   0      2  -1   0   0   0   0   0   0   0\n",
       "  0   0   0   0   0   0   0   0   0     -1   2  -1   0   0   0   0   0   0\n",
       "  0   0   0   0   0   0   0   0   0      0  -1   2  -1   0   0   0   0   0\n",
       "  0   0   0   0   0   0   0   0   0      0   0  -1   2  -1   0   0   0   0\n",
       "  0   0   0   0   0   0   0   0   0  …   0   0   0  -1   2  -1   0   0   0\n",
       "  0   0   0   0   0   0   0   0   0      0   0   0   0  -1   2  -1   0   0\n",
       "  0   0   0   0   0   0   0   0   0      0   0   0   0   0  -1   2  -1   0\n",
       "  0   0   0   0   0   0   0   0   0      0   0   0   0   0   0  -1   2  -1\n",
       "  0   0   0   0   0   0   0   0   0      0   0   0   0   0   0   0  -1   2"
      ]
     },
     "metadata": {},
     "output_type": "display_data"
    }
   ],
   "source": [
    "cria_matriz(200)"
   ]
  },
  {
   "cell_type": "code",
   "execution_count": 13,
   "metadata": {},
   "outputs": [
    {
     "name": "stdout",
     "output_type": "stream",
     "text": [
      "Ponto fixo encontrado: 0.7390855263619245\n",
      "Número de iterações: 34\n",
      "g(x) no ponto fixo: 0.7390848683867142\n",
      "Erro: 6.579752103164083e-7\n"
     ]
    }
   ],
   "source": [
    "function ponto_fixo(g::Function, x0::Float64, tolerance::Float64=1e-6, max_iterations::Int=100)\n",
    "    x = x0\n",
    "    for i in 1:max_iterations\n",
    "        x_new = g(x)\n",
    "        if abs(x_new - x) < tolerance\n",
    "            return x_new, i  # Retorna o ponto fixo e o número de iterações\n",
    "        end\n",
    "        x = x_new\n",
    "    end\n",
    "    error(\"O método não convergiu após $max_iterations iterações.\")\n",
    "end\n",
    "\n",
    "# Exemplo de uso:\n",
    "g(x) = cos(x)\n",
    "\n",
    "# Chamamos o método do ponto fixo\n",
    "initial_guess = 1.0\n",
    "result, iterations = ponto_fixo(g, initial_guess)\n",
    "\n",
    "println(\"Ponto fixo encontrado: \", result)\n",
    "println(\"Número de iterações: \", iterations)\n",
    "println(\"g(x) no ponto fixo: \", g(result))\n",
    "println(\"Erro: \", abs(result - g(result)))"
   ]
  },
  {
   "cell_type": "code",
   "execution_count": null,
   "metadata": {},
   "outputs": [],
   "source": [
    "function metodo_iterativo()"
   ]
  }
 ],
 "metadata": {
  "kernelspec": {
   "display_name": "Julia 1.10.4",
   "language": "julia",
   "name": "julia-1.10"
  },
  "language_info": {
   "file_extension": ".jl",
   "mimetype": "application/julia",
   "name": "julia",
   "version": "1.10.4"
  }
 },
 "nbformat": 4,
 "nbformat_minor": 2
}
