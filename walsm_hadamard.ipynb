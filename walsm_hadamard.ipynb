{
 "cells": [
  {
   "cell_type": "code",
   "execution_count": 87,
   "metadata": {},
   "outputs": [
    {
     "data": {
      "text/plain": [
       "divide_por_2 (generic function with 1 method)"
      ]
     },
     "execution_count": 87,
     "metadata": {},
     "output_type": "execute_result"
    }
   ],
   "source": [
    "function divide_por_2(x)\n",
    "    metade=convert(Int, length(x)/2)\n",
    "    return x[1:metade], x[metade+1:end]\n",
    "end"
   ]
  },
  {
   "cell_type": "code",
   "execution_count": 88,
   "metadata": {},
   "outputs": [
    {
     "data": {
      "text/plain": [
       "F (generic function with 1 method)"
      ]
     },
     "execution_count": 88,
     "metadata": {},
     "output_type": "execute_result"
    }
   ],
   "source": [
    "function F(c)\n",
    "   n = length(c)\n",
    "   if n == 1\n",
    "    return c\n",
    "   else\n",
    "    c1, c2 = divide_por_2(c)\n",
    "\n",
    "    y1antigo = F(c1)/sqrt(2)\n",
    "    y2antigo = F(c2)/sqrt(2)\n",
    "\n",
    "    y1 = y1antigo + y2antigo\n",
    "    y2 = y1antigo - y2antigo\n",
    "    y = [y1;y2]\n",
    "\n",
    "    return y\n",
    "   end\n",
    "end"
   ]
  },
  {
   "cell_type": "code",
   "execution_count": 89,
   "metadata": {},
   "outputs": [
    {
     "data": {
      "text/plain": [
       "8×1 Matrix{Float64}:\n",
       " -0.8342176437246996\n",
       "  0.001690322683677479\n",
       " -2.5112001432745634\n",
       "  0.7729658290997795\n",
       "  0.5082398139464619\n",
       " -0.9449787369654966\n",
       "  1.3636318130546046\n",
       "  2.6936899560958687"
      ]
     },
     "execution_count": 89,
     "metadata": {},
     "output_type": "execute_result"
    }
   ],
   "source": [
    "c = randn(8,1)"
   ]
  },
  {
   "cell_type": "code",
   "execution_count": 90,
   "metadata": {},
   "outputs": [
    {
     "data": {
      "text/plain": [
       "8-element Vector{Float64}:\n",
       "  0.3711678486359584\n",
       " -1.41312233076208\n",
       " -1.2686746169420038\n",
       "  1.8496268311627935\n",
       " -2.188970833711272\n",
       " -1.5002098903411487\n",
       "  1.9091061735549644\n",
       " -0.11844699305000472"
      ]
     },
     "execution_count": 90,
     "metadata": {},
     "output_type": "execute_result"
    }
   ],
   "source": [
    "F(c)"
   ]
  },
  {
   "cell_type": "code",
   "execution_count": 91,
   "metadata": {},
   "outputs": [
    {
     "data": {
      "text/plain": [
       "8-element Vector{Float64}:\n",
       " 1.0\n",
       " 0.0\n",
       " 0.0\n",
       " 0.0\n",
       " 0.0\n",
       " 0.0\n",
       " 0.0\n",
       " 0.0"
      ]
     },
     "execution_count": 91,
     "metadata": {},
     "output_type": "execute_result"
    }
   ],
   "source": [
    "primeiracoluna = zeros(8)\n",
    "primeiracoluna[1]=1\n",
    "primeiracoluna"
   ]
  },
  {
   "cell_type": "code",
   "execution_count": 92,
   "metadata": {},
   "outputs": [
    {
     "data": {
      "text/plain": [
       "8-element Vector{Float64}:\n",
       " 0.3535533905932737\n",
       " 0.3535533905932737\n",
       " 0.3535533905932737\n",
       " 0.3535533905932737\n",
       " 0.3535533905932737\n",
       " 0.3535533905932737\n",
       " 0.3535533905932737\n",
       " 0.3535533905932737"
      ]
     },
     "execution_count": 92,
     "metadata": {},
     "output_type": "execute_result"
    }
   ],
   "source": [
    "F(primeiracoluna)"
   ]
  },
  {
   "cell_type": "code",
   "execution_count": 93,
   "metadata": {},
   "outputs": [
    {
     "data": {
      "text/plain": [
       "8×8 Matrix{Float64}:\n",
       " 0.353553   0.353553   0.353553  …   0.353553   0.353553   0.353553\n",
       " 0.353553  -0.353553   0.353553     -0.353553   0.353553  -0.353553\n",
       " 0.353553   0.353553  -0.353553      0.353553  -0.353553  -0.353553\n",
       " 0.353553  -0.353553  -0.353553     -0.353553  -0.353553   0.353553\n",
       " 0.353553   0.353553   0.353553     -0.353553  -0.353553  -0.353553\n",
       " 0.353553  -0.353553   0.353553  …   0.353553  -0.353553   0.353553\n",
       " 0.353553   0.353553  -0.353553     -0.353553   0.353553   0.353553\n",
       " 0.353553  -0.353553  -0.353553      0.353553   0.353553  -0.353553"
      ]
     },
     "execution_count": 93,
     "metadata": {},
     "output_type": "execute_result"
    }
   ],
   "source": [
    "# Inicializa a matriz\n",
    "matriz = zeros(8, 8)\n",
    "\n",
    "# Preenche cada coluna da matriz\n",
    "for i in 1:8\n",
    "    coluna = zeros(8)\n",
    "    coluna[i] = 1\n",
    "    resultado = F(coluna)\n",
    "    matriz[:, i] = resultado\n",
    "\n",
    "end\n",
    "\n",
    "matriz"
   ]
  },
  {
   "cell_type": "markdown",
   "metadata": {},
   "source": [
    "$$0.353553 ≈ 1/\\sqrt{8} = (1/\\sqrt{2})^3$$"
   ]
  },
  {
   "cell_type": "code",
   "execution_count": 94,
   "metadata": {},
   "outputs": [
    {
     "data": {
      "text/plain": [
       "8×8 Matrix{Float64}:\n",
       " 1.0          5.90395e-18  5.90395e-18  …  2.18516e-17  5.90395e-18\n",
       " 5.90395e-18  1.0          7.97384e-18     5.90395e-18  2.18516e-17\n",
       " 5.90395e-18  7.97384e-18  1.0             5.90395e-18  7.97384e-18\n",
       " 7.97384e-18  5.90395e-18  5.90395e-18     7.97384e-18  5.90395e-18\n",
       " 5.90395e-18  7.97384e-18  2.18516e-17     5.90395e-18  7.97384e-18\n",
       " 7.97384e-18  5.90395e-18  5.90395e-18  …  7.97384e-18  5.90395e-18\n",
       " 2.18516e-17  5.90395e-18  5.90395e-18     1.0          5.90395e-18\n",
       " 5.90395e-18  2.18516e-17  7.97384e-18     5.90395e-18  1.0"
      ]
     },
     "execution_count": 94,
     "metadata": {},
     "output_type": "execute_result"
    }
   ],
   "source": [
    "matriz*matriz'"
   ]
  }
 ],
 "metadata": {
  "kernelspec": {
   "display_name": "Julia 1.10.4",
   "language": "julia",
   "name": "julia-1.10"
  },
  "language_info": {
   "file_extension": ".jl",
   "mimetype": "application/julia",
   "name": "julia",
   "version": "1.10.4"
  }
 },
 "nbformat": 4,
 "nbformat_minor": 2
}
